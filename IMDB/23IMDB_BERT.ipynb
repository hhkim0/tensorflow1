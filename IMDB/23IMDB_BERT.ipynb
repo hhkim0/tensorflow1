{
  "nbformat": 4,
  "nbformat_minor": 0,
  "metadata": {
    "colab": {
      "name": "23IMDB_BERT.ipynb",
      "provenance": [],
      "authorship_tag": "ABX9TyNv9jHQ4O9HZvK7lfWID9wa"
    },
    "kernelspec": {
      "name": "python3",
      "display_name": "Python 3"
    },
    "language_info": {
      "name": "python"
    },
    "accelerator": "GPU"
  },
  "cells": [
    {
      "cell_type": "markdown",
      "metadata": {
        "id": "riwRBgUddRnO"
      },
      "source": [
        "# BERT로 IMDB 영화평 텍스트 분석 Model 제작"
      ]
    },
    {
      "cell_type": "code",
      "metadata": {
        "id": "eun91lQ-dNP9"
      },
      "source": [
        "!pip install ktrain"
      ],
      "execution_count": null,
      "outputs": []
    },
    {
      "cell_type": "code",
      "metadata": {
        "id": "yFxr6MYPd4iq"
      },
      "source": [
        "import ktrain\n",
        "from ktrain import text"
      ],
      "execution_count": null,
      "outputs": []
    },
    {
      "cell_type": "code",
      "metadata": {
        "id": "zfMUAnxWfMME"
      },
      "source": [
        "# load training and validation data from a folder\n",
        "DATADIR = 'data/aclImdb'\n",
        "(x_train, y_train), (x_test, y_test), preproc = text.texts_from_folder(DATADIR, \n",
        "                                                                       maxlen=500, \n",
        "                                                                       preprocess_mode='bert',\n",
        "                                                                       train_test_names=['train', \n",
        "                                                                                         'test'],\n",
        "                                                                       classes=['pos', 'neg'])"
      ],
      "execution_count": null,
      "outputs": []
    },
    {
      "cell_type": "code",
      "metadata": {
        "id": "ni344F4zfTN_"
      },
      "source": [
        "model = text.text_classifier('bert', (x_train, y_train), preproc=preproc)\n",
        "learner = ktrain.get_learner(model, \n",
        "                             train_data=trn, \n",
        "                             val_data=val, \n",
        "                             batch_size=6)"
      ],
      "execution_count": null,
      "outputs": []
    },
    {
      "cell_type": "code",
      "metadata": {
        "id": "EWff4nObtEpj"
      },
      "source": [
        "learner.lr_find()"
      ],
      "execution_count": null,
      "outputs": []
    },
    {
      "cell_type": "code",
      "metadata": {
        "id": "fJCitE1mtchJ"
      },
      "source": [
        "learner.lr_plot()"
      ],
      "execution_count": null,
      "outputs": []
    },
    {
      "cell_type": "code",
      "metadata": {
        "id": "CD1yUexRtjUl"
      },
      "source": [
        "# 2e-5 is one of the LRs  recommended by Google and is consistent with the plot above.\n",
        "learner.fit_onecycle(2e-5, 1)"
      ],
      "execution_count": null,
      "outputs": []
    },
    {
      "cell_type": "code",
      "metadata": {
        "id": "RYibqFxVtkTw"
      },
      "source": [
        "predictor = ktrain.get_predictor(learner.model, preproc)"
      ],
      "execution_count": null,
      "outputs": []
    },
    {
      "cell_type": "code",
      "metadata": {
        "id": "LHdIG1pFtjir"
      },
      "source": [
        "data = [ 'This movie was horrible! The plot was boring. Acting was okay, though.',\n",
        "         'The film really sucked. I want my money back.',\n",
        "        'The plot had too many holes.',\n",
        "        'What a beautiful romantic comedy. 10/10 would see again!',\n",
        "         ]"
      ],
      "execution_count": null,
      "outputs": []
    },
    {
      "cell_type": "code",
      "metadata": {
        "id": "YuyWijP2t3v_"
      },
      "source": [
        "predictor.predict(data)"
      ],
      "execution_count": null,
      "outputs": []
    }
  ]
}