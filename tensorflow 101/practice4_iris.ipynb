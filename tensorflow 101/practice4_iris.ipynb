{
  "nbformat": 4,
  "nbformat_minor": 0,
  "metadata": {
    "colab": {
      "name": "practice4-iris.ipynb",
      "provenance": [],
      "authorship_tag": "ABX9TyOkY0RSvV08/vrd6aGpIxRa"
    },
    "kernelspec": {
      "name": "python3",
      "display_name": "Python 3"
    },
    "language_info": {
      "name": "python"
    }
  },
  "cells": [
    {
      "cell_type": "markdown",
      "metadata": {
        "id": "vbE2BzjveE0o"
      },
      "source": [
        "https://raw.githubusercontent.com/blackdew/tensorflow1/master/csv/iris.csv\n",
        "\n",
        "**원핫인코딩** onehot-encoding\n",
        "(범주형변수)\n",
        "\n",
        "```\n",
        "pd.read_csv()\n",
        "pd.get_dummies()\n",
        "```\n",
        "\n",
        "**softmax** / sigmoid \n",
        "(분류 예측) - 비율로 예측\n",
        "\n",
        "```\n",
        "--\n",
        "Y = tf.keras.layers.Dense(3, activation='softmax')(X)\n",
        "--\n",
        "model.compile(loss='categorical_crossentropy')\n",
        "```\n",
        "**활성화모델** Activation\n",
        "- 회귀모델: Identity (y=x)\n",
        "- 분류모델: Softmax\n"
      ]
    },
    {
      "cell_type": "code",
      "metadata": {
        "id": "JVftkvIjd-K4"
      },
      "source": [
        "# 라이브러리 사용\n",
        "import tensorflow as tf\n",
        "import pandas as pd"
      ],
      "execution_count": null,
      "outputs": []
    },
    {
      "cell_type": "code",
      "metadata": {
        "colab": {
          "base_uri": "https://localhost:8080/",
          "height": 203
        },
        "id": "kzr8dr7tilfM",
        "outputId": "1045a7a8-d8eb-4e3e-87a2-1648085b1734"
      },
      "source": [
        "# 1.과거의 데이터를 준비합니다.\n",
        "파일경로 = 'https://raw.githubusercontent.com/blackdew/tensorflow1/master/csv/iris.csv'\n",
        "아이리스 = pd.read_csv(파일경로)\n",
        "아이리스.head()"
      ],
      "execution_count": null,
      "outputs": [
        {
          "output_type": "execute_result",
          "data": {
            "text/html": [
              "<div>\n",
              "<style scoped>\n",
              "    .dataframe tbody tr th:only-of-type {\n",
              "        vertical-align: middle;\n",
              "    }\n",
              "\n",
              "    .dataframe tbody tr th {\n",
              "        vertical-align: top;\n",
              "    }\n",
              "\n",
              "    .dataframe thead th {\n",
              "        text-align: right;\n",
              "    }\n",
              "</style>\n",
              "<table border=\"1\" class=\"dataframe\">\n",
              "  <thead>\n",
              "    <tr style=\"text-align: right;\">\n",
              "      <th></th>\n",
              "      <th>꽃잎길이</th>\n",
              "      <th>꽃잎폭</th>\n",
              "      <th>꽃받침길이</th>\n",
              "      <th>꽃받침폭</th>\n",
              "      <th>품종</th>\n",
              "    </tr>\n",
              "  </thead>\n",
              "  <tbody>\n",
              "    <tr>\n",
              "      <th>0</th>\n",
              "      <td>5.1</td>\n",
              "      <td>3.5</td>\n",
              "      <td>1.4</td>\n",
              "      <td>0.2</td>\n",
              "      <td>setosa</td>\n",
              "    </tr>\n",
              "    <tr>\n",
              "      <th>1</th>\n",
              "      <td>4.9</td>\n",
              "      <td>3.0</td>\n",
              "      <td>1.4</td>\n",
              "      <td>0.2</td>\n",
              "      <td>setosa</td>\n",
              "    </tr>\n",
              "    <tr>\n",
              "      <th>2</th>\n",
              "      <td>4.7</td>\n",
              "      <td>3.2</td>\n",
              "      <td>1.3</td>\n",
              "      <td>0.2</td>\n",
              "      <td>setosa</td>\n",
              "    </tr>\n",
              "    <tr>\n",
              "      <th>3</th>\n",
              "      <td>4.6</td>\n",
              "      <td>3.1</td>\n",
              "      <td>1.5</td>\n",
              "      <td>0.2</td>\n",
              "      <td>setosa</td>\n",
              "    </tr>\n",
              "    <tr>\n",
              "      <th>4</th>\n",
              "      <td>5.0</td>\n",
              "      <td>3.6</td>\n",
              "      <td>1.4</td>\n",
              "      <td>0.2</td>\n",
              "      <td>setosa</td>\n",
              "    </tr>\n",
              "  </tbody>\n",
              "</table>\n",
              "</div>"
            ],
            "text/plain": [
              "   꽃잎길이  꽃잎폭  꽃받침길이  꽃받침폭      품종\n",
              "0   5.1  3.5    1.4   0.2  setosa\n",
              "1   4.9  3.0    1.4   0.2  setosa\n",
              "2   4.7  3.2    1.3   0.2  setosa\n",
              "3   4.6  3.1    1.5   0.2  setosa\n",
              "4   5.0  3.6    1.4   0.2  setosa"
            ]
          },
          "metadata": {
            "tags": []
          },
          "execution_count": 2
        }
      ]
    },
    {
      "cell_type": "code",
      "metadata": {
        "colab": {
          "base_uri": "https://localhost:8080/",
          "height": 203
        },
        "id": "Zt8IWBKYitaD",
        "outputId": "b72d652e-a774-4eeb-f8b0-575c8e2ceaef"
      },
      "source": [
        "# 원핫인코딩\n",
        "인코딩 = pd.get_dummies(아이리스)\n",
        "인코딩.head()"
      ],
      "execution_count": null,
      "outputs": [
        {
          "output_type": "execute_result",
          "data": {
            "text/html": [
              "<div>\n",
              "<style scoped>\n",
              "    .dataframe tbody tr th:only-of-type {\n",
              "        vertical-align: middle;\n",
              "    }\n",
              "\n",
              "    .dataframe tbody tr th {\n",
              "        vertical-align: top;\n",
              "    }\n",
              "\n",
              "    .dataframe thead th {\n",
              "        text-align: right;\n",
              "    }\n",
              "</style>\n",
              "<table border=\"1\" class=\"dataframe\">\n",
              "  <thead>\n",
              "    <tr style=\"text-align: right;\">\n",
              "      <th></th>\n",
              "      <th>꽃잎길이</th>\n",
              "      <th>꽃잎폭</th>\n",
              "      <th>꽃받침길이</th>\n",
              "      <th>꽃받침폭</th>\n",
              "      <th>품종_setosa</th>\n",
              "      <th>품종_versicolor</th>\n",
              "      <th>품종_virginica</th>\n",
              "    </tr>\n",
              "  </thead>\n",
              "  <tbody>\n",
              "    <tr>\n",
              "      <th>0</th>\n",
              "      <td>5.1</td>\n",
              "      <td>3.5</td>\n",
              "      <td>1.4</td>\n",
              "      <td>0.2</td>\n",
              "      <td>1</td>\n",
              "      <td>0</td>\n",
              "      <td>0</td>\n",
              "    </tr>\n",
              "    <tr>\n",
              "      <th>1</th>\n",
              "      <td>4.9</td>\n",
              "      <td>3.0</td>\n",
              "      <td>1.4</td>\n",
              "      <td>0.2</td>\n",
              "      <td>1</td>\n",
              "      <td>0</td>\n",
              "      <td>0</td>\n",
              "    </tr>\n",
              "    <tr>\n",
              "      <th>2</th>\n",
              "      <td>4.7</td>\n",
              "      <td>3.2</td>\n",
              "      <td>1.3</td>\n",
              "      <td>0.2</td>\n",
              "      <td>1</td>\n",
              "      <td>0</td>\n",
              "      <td>0</td>\n",
              "    </tr>\n",
              "    <tr>\n",
              "      <th>3</th>\n",
              "      <td>4.6</td>\n",
              "      <td>3.1</td>\n",
              "      <td>1.5</td>\n",
              "      <td>0.2</td>\n",
              "      <td>1</td>\n",
              "      <td>0</td>\n",
              "      <td>0</td>\n",
              "    </tr>\n",
              "    <tr>\n",
              "      <th>4</th>\n",
              "      <td>5.0</td>\n",
              "      <td>3.6</td>\n",
              "      <td>1.4</td>\n",
              "      <td>0.2</td>\n",
              "      <td>1</td>\n",
              "      <td>0</td>\n",
              "      <td>0</td>\n",
              "    </tr>\n",
              "  </tbody>\n",
              "</table>\n",
              "</div>"
            ],
            "text/plain": [
              "   꽃잎길이  꽃잎폭  꽃받침길이  꽃받침폭  품종_setosa  품종_versicolor  품종_virginica\n",
              "0   5.1  3.5    1.4   0.2          1              0             0\n",
              "1   4.9  3.0    1.4   0.2          1              0             0\n",
              "2   4.7  3.2    1.3   0.2          1              0             0\n",
              "3   4.6  3.1    1.5   0.2          1              0             0\n",
              "4   5.0  3.6    1.4   0.2          1              0             0"
            ]
          },
          "metadata": {
            "tags": []
          },
          "execution_count": 3
        }
      ]
    },
    {
      "cell_type": "code",
      "metadata": {
        "id": "X6xzWUIsi7kC"
      },
      "source": [
        "print(인코딩.columns)"
      ],
      "execution_count": null,
      "outputs": []
    },
    {
      "cell_type": "code",
      "metadata": {
        "id": "pH9zWs5uizhw"
      },
      "source": [
        "# 독립변수, 종속변수\n",
        "독립 = 인코딩[['꽃잎길이', '꽃잎폭', '꽃받침길이', '꽃받침폭']]\n",
        "종속 = 인코딩[['품종_setosa', '품종_versicolor', '품종_virginica']]\n",
        "print(독립.shape, 종속.shape)"
      ],
      "execution_count": null,
      "outputs": []
    },
    {
      "cell_type": "code",
      "metadata": {
        "id": "jWC_nkGDjLOV"
      },
      "source": [
        "# 2. 모델의 구조를 만듭니다.\n",
        "X = tf.keras.layers.Input(shape=[4])\n",
        "Y = tf.keras.layers.Dense(3, activation='softmax')(X)\n",
        "model = tf.keras.models.Model(X, Y)\n",
        "model.compile(loss='categorical_crossentropy', metrics='accuracy')"
      ],
      "execution_count": null,
      "outputs": []
    },
    {
      "cell_type": "code",
      "metadata": {
        "colab": {
          "base_uri": "https://localhost:8080/"
        },
        "id": "gTaF7nxUjfRL",
        "outputId": "f00d01d4-bfe2-4a74-f833-1f6d5b3a5c5f"
      },
      "source": [
        "# 3. 데이터로 모델을 학습(FIT)합니다.\n",
        "model.fit(독립, 종속, epochs=100)"
      ],
      "execution_count": null,
      "outputs": [
        {
          "output_type": "stream",
          "text": [
            "Epoch 1/100\n",
            "5/5 [==============================] - 0s 2ms/step - loss: 0.4685 - accuracy: 0.8267\n",
            "Epoch 2/100\n",
            "5/5 [==============================] - 0s 2ms/step - loss: 0.4683 - accuracy: 0.7933\n",
            "Epoch 3/100\n",
            "5/5 [==============================] - 0s 3ms/step - loss: 0.4670 - accuracy: 0.8200\n",
            "Epoch 4/100\n",
            "5/5 [==============================] - 0s 3ms/step - loss: 0.4668 - accuracy: 0.7933\n",
            "Epoch 5/100\n",
            "5/5 [==============================] - 0s 3ms/step - loss: 0.4654 - accuracy: 0.8067\n",
            "Epoch 6/100\n",
            "5/5 [==============================] - 0s 4ms/step - loss: 0.4644 - accuracy: 0.7933\n",
            "Epoch 7/100\n",
            "5/5 [==============================] - 0s 3ms/step - loss: 0.4633 - accuracy: 0.7933\n",
            "Epoch 8/100\n",
            "5/5 [==============================] - 0s 3ms/step - loss: 0.4622 - accuracy: 0.8133\n",
            "Epoch 9/100\n",
            "5/5 [==============================] - 0s 4ms/step - loss: 0.4611 - accuracy: 0.8133\n",
            "Epoch 10/100\n",
            "5/5 [==============================] - 0s 2ms/step - loss: 0.4610 - accuracy: 0.8333\n",
            "Epoch 11/100\n",
            "5/5 [==============================] - 0s 3ms/step - loss: 0.4591 - accuracy: 0.8267\n",
            "Epoch 12/100\n",
            "5/5 [==============================] - 0s 3ms/step - loss: 0.4580 - accuracy: 0.7933\n",
            "Epoch 13/100\n",
            "5/5 [==============================] - 0s 3ms/step - loss: 0.4581 - accuracy: 0.8200\n",
            "Epoch 14/100\n",
            "5/5 [==============================] - 0s 3ms/step - loss: 0.4560 - accuracy: 0.8333\n",
            "Epoch 15/100\n",
            "5/5 [==============================] - 0s 3ms/step - loss: 0.4550 - accuracy: 0.8400\n",
            "Epoch 16/100\n",
            "5/5 [==============================] - 0s 3ms/step - loss: 0.4539 - accuracy: 0.8267\n",
            "Epoch 17/100\n",
            "5/5 [==============================] - 0s 3ms/step - loss: 0.4531 - accuracy: 0.8600\n",
            "Epoch 18/100\n",
            "5/5 [==============================] - 0s 3ms/step - loss: 0.4534 - accuracy: 0.8333\n",
            "Epoch 19/100\n",
            "5/5 [==============================] - 0s 3ms/step - loss: 0.4507 - accuracy: 0.8867\n",
            "Epoch 20/100\n",
            "5/5 [==============================] - 0s 3ms/step - loss: 0.4513 - accuracy: 0.8400\n",
            "Epoch 21/100\n",
            "5/5 [==============================] - 0s 3ms/step - loss: 0.4492 - accuracy: 0.8400\n",
            "Epoch 22/100\n",
            "5/5 [==============================] - 0s 3ms/step - loss: 0.4488 - accuracy: 0.8800\n",
            "Epoch 23/100\n",
            "5/5 [==============================] - 0s 2ms/step - loss: 0.4482 - accuracy: 0.8667\n",
            "Epoch 24/100\n",
            "5/5 [==============================] - 0s 3ms/step - loss: 0.4467 - accuracy: 0.9000\n",
            "Epoch 25/100\n",
            "5/5 [==============================] - 0s 3ms/step - loss: 0.4454 - accuracy: 0.8467\n",
            "Epoch 26/100\n",
            "5/5 [==============================] - 0s 3ms/step - loss: 0.4449 - accuracy: 0.8333\n",
            "Epoch 27/100\n",
            "5/5 [==============================] - 0s 3ms/step - loss: 0.4439 - accuracy: 0.8867\n",
            "Epoch 28/100\n",
            "5/5 [==============================] - 0s 3ms/step - loss: 0.4428 - accuracy: 0.9067\n",
            "Epoch 29/100\n",
            "5/5 [==============================] - 0s 3ms/step - loss: 0.4436 - accuracy: 0.9067\n",
            "Epoch 30/100\n",
            "5/5 [==============================] - 0s 3ms/step - loss: 0.4410 - accuracy: 0.9067\n",
            "Epoch 31/100\n",
            "5/5 [==============================] - 0s 3ms/step - loss: 0.4402 - accuracy: 0.8467\n",
            "Epoch 32/100\n",
            "5/5 [==============================] - 0s 3ms/step - loss: 0.4398 - accuracy: 0.8933\n",
            "Epoch 33/100\n",
            "5/5 [==============================] - 0s 3ms/step - loss: 0.4388 - accuracy: 0.9067\n",
            "Epoch 34/100\n",
            "5/5 [==============================] - 0s 6ms/step - loss: 0.4380 - accuracy: 0.9000\n",
            "Epoch 35/100\n",
            "5/5 [==============================] - 0s 6ms/step - loss: 0.4366 - accuracy: 0.9267\n",
            "Epoch 36/100\n",
            "5/5 [==============================] - 0s 3ms/step - loss: 0.4357 - accuracy: 0.8933\n",
            "Epoch 37/100\n",
            "5/5 [==============================] - 0s 3ms/step - loss: 0.4366 - accuracy: 0.9133\n",
            "Epoch 38/100\n",
            "5/5 [==============================] - 0s 3ms/step - loss: 0.4339 - accuracy: 0.8933\n",
            "Epoch 39/100\n",
            "5/5 [==============================] - 0s 3ms/step - loss: 0.4331 - accuracy: 0.8800\n",
            "Epoch 40/100\n",
            "5/5 [==============================] - 0s 4ms/step - loss: 0.4326 - accuracy: 0.9133\n",
            "Epoch 41/100\n",
            "5/5 [==============================] - 0s 4ms/step - loss: 0.4310 - accuracy: 0.9133\n",
            "Epoch 42/100\n",
            "5/5 [==============================] - 0s 3ms/step - loss: 0.4310 - accuracy: 0.9267\n",
            "Epoch 43/100\n",
            "5/5 [==============================] - 0s 4ms/step - loss: 0.4297 - accuracy: 0.9067\n",
            "Epoch 44/100\n",
            "5/5 [==============================] - 0s 5ms/step - loss: 0.4296 - accuracy: 0.9133\n",
            "Epoch 45/100\n",
            "5/5 [==============================] - 0s 3ms/step - loss: 0.4285 - accuracy: 0.9133\n",
            "Epoch 46/100\n",
            "5/5 [==============================] - 0s 4ms/step - loss: 0.4281 - accuracy: 0.9133\n",
            "Epoch 47/100\n",
            "5/5 [==============================] - 0s 4ms/step - loss: 0.4263 - accuracy: 0.9267\n",
            "Epoch 48/100\n",
            "5/5 [==============================] - 0s 3ms/step - loss: 0.4264 - accuracy: 0.9200\n",
            "Epoch 49/100\n",
            "5/5 [==============================] - 0s 4ms/step - loss: 0.4246 - accuracy: 0.9200\n",
            "Epoch 50/100\n",
            "5/5 [==============================] - 0s 4ms/step - loss: 0.4241 - accuracy: 0.9267\n",
            "Epoch 51/100\n",
            "5/5 [==============================] - 0s 3ms/step - loss: 0.4230 - accuracy: 0.9267\n",
            "Epoch 52/100\n",
            "5/5 [==============================] - 0s 3ms/step - loss: 0.4218 - accuracy: 0.9200\n",
            "Epoch 53/100\n",
            "5/5 [==============================] - 0s 3ms/step - loss: 0.4211 - accuracy: 0.9200\n",
            "Epoch 54/100\n",
            "5/5 [==============================] - 0s 3ms/step - loss: 0.4209 - accuracy: 0.9267\n",
            "Epoch 55/100\n",
            "5/5 [==============================] - 0s 3ms/step - loss: 0.4190 - accuracy: 0.9333\n",
            "Epoch 56/100\n",
            "5/5 [==============================] - 0s 6ms/step - loss: 0.4182 - accuracy: 0.9267\n",
            "Epoch 57/100\n",
            "5/5 [==============================] - 0s 4ms/step - loss: 0.4193 - accuracy: 0.9200\n",
            "Epoch 58/100\n",
            "5/5 [==============================] - 0s 3ms/step - loss: 0.4173 - accuracy: 0.9200\n",
            "Epoch 59/100\n",
            "5/5 [==============================] - 0s 3ms/step - loss: 0.4166 - accuracy: 0.9200\n",
            "Epoch 60/100\n",
            "5/5 [==============================] - 0s 3ms/step - loss: 0.4159 - accuracy: 0.9133\n",
            "Epoch 61/100\n",
            "5/5 [==============================] - 0s 3ms/step - loss: 0.4153 - accuracy: 0.9200\n",
            "Epoch 62/100\n",
            "5/5 [==============================] - 0s 3ms/step - loss: 0.4148 - accuracy: 0.9200\n",
            "Epoch 63/100\n",
            "5/5 [==============================] - 0s 3ms/step - loss: 0.4130 - accuracy: 0.9200\n",
            "Epoch 64/100\n",
            "5/5 [==============================] - 0s 2ms/step - loss: 0.4123 - accuracy: 0.9267\n",
            "Epoch 65/100\n",
            "5/5 [==============================] - 0s 4ms/step - loss: 0.4119 - accuracy: 0.9200\n",
            "Epoch 66/100\n",
            "5/5 [==============================] - 0s 4ms/step - loss: 0.4120 - accuracy: 0.9267\n",
            "Epoch 67/100\n",
            "5/5 [==============================] - 0s 3ms/step - loss: 0.4105 - accuracy: 0.9133\n",
            "Epoch 68/100\n",
            "5/5 [==============================] - 0s 3ms/step - loss: 0.4098 - accuracy: 0.9267\n",
            "Epoch 69/100\n",
            "5/5 [==============================] - 0s 2ms/step - loss: 0.4083 - accuracy: 0.9267\n",
            "Epoch 70/100\n",
            "5/5 [==============================] - 0s 3ms/step - loss: 0.4088 - accuracy: 0.9267\n",
            "Epoch 71/100\n",
            "5/5 [==============================] - 0s 3ms/step - loss: 0.4071 - accuracy: 0.9333\n",
            "Epoch 72/100\n",
            "5/5 [==============================] - 0s 3ms/step - loss: 0.4065 - accuracy: 0.9333\n",
            "Epoch 73/100\n",
            "5/5 [==============================] - 0s 3ms/step - loss: 0.4062 - accuracy: 0.9267\n",
            "Epoch 74/100\n",
            "5/5 [==============================] - 0s 3ms/step - loss: 0.4059 - accuracy: 0.9200\n",
            "Epoch 75/100\n",
            "5/5 [==============================] - 0s 3ms/step - loss: 0.4041 - accuracy: 0.9333\n",
            "Epoch 76/100\n",
            "5/5 [==============================] - 0s 4ms/step - loss: 0.4036 - accuracy: 0.9333\n",
            "Epoch 77/100\n",
            "5/5 [==============================] - 0s 3ms/step - loss: 0.4025 - accuracy: 0.9400\n",
            "Epoch 78/100\n",
            "5/5 [==============================] - 0s 3ms/step - loss: 0.4015 - accuracy: 0.9400\n",
            "Epoch 79/100\n",
            "5/5 [==============================] - 0s 3ms/step - loss: 0.4012 - accuracy: 0.9267\n",
            "Epoch 80/100\n",
            "5/5 [==============================] - 0s 3ms/step - loss: 0.4013 - accuracy: 0.9400\n",
            "Epoch 81/100\n",
            "5/5 [==============================] - 0s 3ms/step - loss: 0.3997 - accuracy: 0.9333\n",
            "Epoch 82/100\n",
            "5/5 [==============================] - 0s 3ms/step - loss: 0.3986 - accuracy: 0.9400\n",
            "Epoch 83/100\n",
            "5/5 [==============================] - 0s 2ms/step - loss: 0.3987 - accuracy: 0.9400\n",
            "Epoch 84/100\n",
            "5/5 [==============================] - 0s 2ms/step - loss: 0.3974 - accuracy: 0.9400\n",
            "Epoch 85/100\n",
            "5/5 [==============================] - 0s 3ms/step - loss: 0.3961 - accuracy: 0.9400\n",
            "Epoch 86/100\n",
            "5/5 [==============================] - 0s 3ms/step - loss: 0.3958 - accuracy: 0.9333\n",
            "Epoch 87/100\n",
            "5/5 [==============================] - 0s 5ms/step - loss: 0.3958 - accuracy: 0.9400\n",
            "Epoch 88/100\n",
            "5/5 [==============================] - 0s 3ms/step - loss: 0.3955 - accuracy: 0.9400\n",
            "Epoch 89/100\n",
            "5/5 [==============================] - 0s 4ms/step - loss: 0.3937 - accuracy: 0.9400\n",
            "Epoch 90/100\n",
            "5/5 [==============================] - 0s 4ms/step - loss: 0.3927 - accuracy: 0.9400\n",
            "Epoch 91/100\n",
            "5/5 [==============================] - 0s 3ms/step - loss: 0.3921 - accuracy: 0.9400\n",
            "Epoch 92/100\n",
            "5/5 [==============================] - 0s 3ms/step - loss: 0.3912 - accuracy: 0.9400\n",
            "Epoch 93/100\n",
            "5/5 [==============================] - 0s 3ms/step - loss: 0.3915 - accuracy: 0.9333\n",
            "Epoch 94/100\n",
            "5/5 [==============================] - 0s 3ms/step - loss: 0.3915 - accuracy: 0.9400\n",
            "Epoch 95/100\n",
            "5/5 [==============================] - 0s 2ms/step - loss: 0.3890 - accuracy: 0.9400\n",
            "Epoch 96/100\n",
            "5/5 [==============================] - 0s 3ms/step - loss: 0.3892 - accuracy: 0.9400\n",
            "Epoch 97/100\n",
            "5/5 [==============================] - 0s 3ms/step - loss: 0.3878 - accuracy: 0.9400\n",
            "Epoch 98/100\n",
            "5/5 [==============================] - 0s 4ms/step - loss: 0.3873 - accuracy: 0.9400\n",
            "Epoch 99/100\n",
            "5/5 [==============================] - 0s 4ms/step - loss: 0.3861 - accuracy: 0.9400\n",
            "Epoch 100/100\n",
            "5/5 [==============================] - 0s 3ms/step - loss: 0.3861 - accuracy: 0.9400\n"
          ],
          "name": "stdout"
        },
        {
          "output_type": "execute_result",
          "data": {
            "text/plain": [
              "<tensorflow.python.keras.callbacks.History at 0x7f700f14fcd0>"
            ]
          },
          "metadata": {
            "tags": []
          },
          "execution_count": 10
        }
      ]
    },
    {
      "cell_type": "code",
      "metadata": {
        "colab": {
          "base_uri": "https://localhost:8080/"
        },
        "id": "nBq4t4mvjkir",
        "outputId": "91678f8c-1fc2-440c-c35f-9058ccf73ffb"
      },
      "source": [
        "# 모델을 이용합니다.\n",
        "model.predict(독립[-5:])"
      ],
      "execution_count": null,
      "outputs": [
        {
          "output_type": "execute_result",
          "data": {
            "text/plain": [
              "array([[0.00130182, 0.34630662, 0.65239155],\n",
              "       [0.00148004, 0.34333354, 0.65518636],\n",
              "       [0.0019926 , 0.41067272, 0.58733463],\n",
              "       [0.00130736, 0.43877548, 0.5599172 ],\n",
              "       [0.00259209, 0.47677788, 0.52063   ]], dtype=float32)"
            ]
          },
          "metadata": {
            "tags": []
          },
          "execution_count": 13
        }
      ]
    },
    {
      "cell_type": "code",
      "metadata": {
        "colab": {
          "base_uri": "https://localhost:8080/"
        },
        "id": "KDAri9Z2jylN",
        "outputId": "c0448cb8-0bee-4d6f-e7a1-1eb7f998f15a"
      },
      "source": [
        "print(종속[-5:])"
      ],
      "execution_count": null,
      "outputs": [
        {
          "output_type": "stream",
          "text": [
            "     품종_setosa  품종_versicolor  품종_virginica\n",
            "145          0              0             1\n",
            "146          0              0             1\n",
            "147          0              0             1\n",
            "148          0              0             1\n",
            "149          0              0             1\n"
          ],
          "name": "stdout"
        }
      ]
    },
    {
      "cell_type": "code",
      "metadata": {
        "colab": {
          "base_uri": "https://localhost:8080/"
        },
        "id": "FoyuMxlrj2-o",
        "outputId": "f2f43cc4-2370-4f8f-b7ee-a6d3655f65c9"
      },
      "source": [
        "# 학습한 가중치\n",
        "model.get_weights()"
      ],
      "execution_count": null,
      "outputs": [
        {
          "output_type": "execute_result",
          "data": {
            "text/plain": [
              "[array([[ 1.1085998 ,  0.5821514 ,  0.73311305],\n",
              "        [ 0.80715764, -0.21638003, -1.079872  ],\n",
              "        [-1.2203997 ,  0.6726578 ,  0.8294432 ],\n",
              "        [-1.0354807 ,  0.1661719 ,  0.9839414 ]], dtype=float32),\n",
              " array([ 0.58513546,  0.15881303, -0.3249869 ], dtype=float32)]"
            ]
          },
          "metadata": {
            "tags": []
          },
          "execution_count": 15
        }
      ]
    }
  ]
}
