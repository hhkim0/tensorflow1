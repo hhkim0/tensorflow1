{
  "nbformat": 4,
  "nbformat_minor": 0,
  "metadata": {
    "colab": {
      "name": "practice2-lemonade.ipynb",
      "provenance": [],
      "collapsed_sections": [],
      "authorship_tag": "ABX9TyOWe29h8BqR9ycwThRb7fOS"
    },
    "kernelspec": {
      "name": "python3",
      "display_name": "Python 3"
    },
    "language_info": {
      "name": "python"
    }
  },
  "cells": [
    {
      "cell_type": "code",
      "metadata": {
        "id": "hnqhTgoGTm_i"
      },
      "source": [
        "# 라이브러리 사용\n",
        "import tensorflow as tf\n",
        "import pandas as pd"
      ],
      "execution_count": 2,
      "outputs": []
    },
    {
      "cell_type": "code",
      "metadata": {
        "id": "zkxv1aDEUorJ"
      },
      "source": [
        "# 데이터 준비\n",
        "파일경로 = 'https://raw.githubusercontent.com/blackdew/tensorflow1/master/csv/lemonade.csv'\n",
        "데이터 = pd.read_csv(파일경로)\n",
        "데이터.head()"
      ],
      "execution_count": null,
      "outputs": []
    },
    {
      "cell_type": "code",
      "metadata": {
        "id": "950YDS7GU09s"
      },
      "source": [
        "# 종속변수, 독립변수\n",
        "독립 = 데이터[['온도']]\n",
        "종속 = 데이터[['판매량']]\n",
        "print(독립.shape, 종속.shape)"
      ],
      "execution_count": null,
      "outputs": []
    },
    {
      "cell_type": "code",
      "metadata": {
        "id": "OonwcVm-U-0Y"
      },
      "source": [
        "# 모델을 만듭니다.\n",
        "X = tf.keras.layers.Input(shape=[1])\n",
        "Y = tf.keras.layers.Dense(1)(X)\n",
        "model = tf.keras.models.Model(X,Y)\n",
        "model.compile(loss='mse')"
      ],
      "execution_count": 5,
      "outputs": []
    },
    {
      "cell_type": "code",
      "metadata": {
        "id": "9WR8Pc1AVSI8"
      },
      "source": [
        "# 모델을 학습합니다.\n",
        "# verbose = 0 : 화면 출력X\n",
        "model.fit(독립, 종속, epochs=10)"
      ],
      "execution_count": null,
      "outputs": []
    },
    {
      "cell_type": "code",
      "metadata": {
        "id": "JHyY6aACVvkP"
      },
      "source": [
        "# 모델을 이용합니다.\n",
        "model.predict(독립)\n",
        "종속"
      ],
      "execution_count": null,
      "outputs": []
    },
    {
      "cell_type": "code",
      "metadata": {
        "id": "HYOLZ2SCWFT_"
      },
      "source": [
        "model.predict([[15]])"
      ],
      "execution_count": null,
      "outputs": []
    }
  ]
}
