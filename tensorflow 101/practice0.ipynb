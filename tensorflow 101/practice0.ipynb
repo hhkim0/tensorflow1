{
  "nbformat": 4,
  "nbformat_minor": 0,
  "metadata": {
    "colab": {
      "name": "practice0.ipynb",
      "provenance": [],
      "collapsed_sections": [],
      "authorship_tag": "ABX9TyOjip7H5xz3pXMWsntm0B/4"
    },
    "kernelspec": {
      "name": "python3",
      "display_name": "Python 3"
    },
    "language_info": {
      "name": "python"
    }
  },
  "cells": [
    {
      "cell_type": "code",
      "metadata": {
        "colab": {
          "base_uri": "https://localhost:8080/"
        },
        "id": "I3-OPmBDOLRR",
        "outputId": "0b1476dd-8e1c-4062-e47d-abcdb7fcf8a5"
      },
      "source": [
        "print(\"안녕, 콜라보레이토리\")"
      ],
      "execution_count": null,
      "outputs": [
        {
          "output_type": "stream",
          "text": [
            "안녕, 콜라보레이토리\n"
          ],
          "name": "stdout"
        }
      ]
    },
    {
      "cell_type": "code",
      "metadata": {
        "colab": {
          "base_uri": "https://localhost:8080/"
        },
        "id": "LY0KGRfuOPkg",
        "outputId": "dd613147-1c4d-44df-abb6-60afbc8d9f5f"
      },
      "source": [
        "text = 'hello, python'\n",
        "print(text)"
      ],
      "execution_count": null,
      "outputs": [
        {
          "output_type": "stream",
          "text": [
            "hello, python\n"
          ],
          "name": "stdout"
        }
      ]
    }
  ]
}
