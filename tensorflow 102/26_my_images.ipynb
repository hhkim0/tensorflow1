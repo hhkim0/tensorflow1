{
  "nbformat": 4,
  "nbformat_minor": 0,
  "metadata": {
    "colab": {
      "name": "26. my images.ipynb",
      "provenance": [],
      "collapsed_sections": [],
      "authorship_tag": "ABX9TyPhe+mdWWZlmX4gIKa1/t27"
    },
    "kernelspec": {
      "name": "python3",
      "display_name": "Python 3"
    },
    "language_info": {
      "name": "python"
    },
    "accelerator": "GPU"
  },
  "cells": [
    {
      "cell_type": "code",
      "metadata": {
        "id": "H9BtXFfRYOAC"
      },
      "source": [
        "!wget -q https://raw.githubusercontent.com/blackdew/tensorflow1/master/csv/notMNIST_small.tar.gz\n",
        "!tar -xzf notMNIST_small.tar.gz"
      ],
      "execution_count": null,
      "outputs": []
    },
    {
      "cell_type": "code",
      "metadata": {
        "colab": {
          "base_uri": "https://localhost:8080/"
        },
        "id": "QIMdWMxuYfHO",
        "outputId": "4ea44ac3-d4e6-48ec-e4b6-5fce45e7ee59"
      },
      "source": [
        "# 이미지 읽어서 데이터 준비하기\n",
        "import glob\n",
        "import numpy as np\n",
        "import pandas as pd\n",
        "import matplotlib.pyplot as plt\n",
        "\n",
        "paths = glob.glob('./notMNIST_small/*/*.png')\n",
        "paths = np.random.permutation(paths)\n",
        "독립 = np.array([plt.imread(paths[i]) for i in range(len(paths))])\n",
        "종속 = np.array([paths[i].split('/')[2] for i in range(len(paths))])\n",
        "print(독립.shape, 종속.shape)"
      ],
      "execution_count": null,
      "outputs": [
        {
          "output_type": "stream",
          "text": [
            "(18724, 28, 28) (18724,)\n"
          ],
          "name": "stdout"
        }
      ]
    },
    {
      "cell_type": "code",
      "metadata": {
        "colab": {
          "base_uri": "https://localhost:8080/"
        },
        "id": "njXQjJ9waHgq",
        "outputId": "8c60650c-426a-45e7-f5f9-3690afac7070"
      },
      "source": [
        "종속[0:10]"
      ],
      "execution_count": null,
      "outputs": [
        {
          "output_type": "execute_result",
          "data": {
            "text/plain": [
              "array(['J', 'B', 'A', 'B', 'G', 'B', 'B', 'H', 'D', 'C'], dtype='<U1')"
            ]
          },
          "metadata": {
            "tags": []
          },
          "execution_count": 18
        }
      ]
    },
    {
      "cell_type": "code",
      "metadata": {
        "colab": {
          "base_uri": "https://localhost:8080/",
          "height": 282
        },
        "id": "o2WaU00dbIsR",
        "outputId": "21a3df25-c166-4617-c7c3-41c7faf97b70"
      },
      "source": [
        "plt.imshow(독립[7], cmap='gray')"
      ],
      "execution_count": null,
      "outputs": [
        {
          "output_type": "execute_result",
          "data": {
            "text/plain": [
              "<matplotlib.image.AxesImage at 0x7fb77a404c10>"
            ]
          },
          "metadata": {
            "tags": []
          },
          "execution_count": 23
        },
        {
          "output_type": "display_data",
          "data": {
            "image/png": "[encoded data removed]",
            "text/plain": [
              "<Figure size 432x288 with 1 Axes>"
            ]
          },
          "metadata": {
            "tags": [],
            "needs_background": "light"
          }
        }
      ]
    },
    {
      "cell_type": "code",
      "metadata": {
        "colab": {
          "base_uri": "https://localhost:8080/"
        },
        "id": "VVYMKwDCZXZY",
        "outputId": "760f9c63-fd1a-4fd6-d53b-297ff57e84da"
      },
      "source": [
        "독립 = 독립.reshape(18724, 28, 28, 1)\n",
        "종속 = pd.get_dummies(종속)\n",
        "print(독립.shape, 종속.shape)"
      ],
      "execution_count": null,
      "outputs": [
        {
          "output_type": "stream",
          "text": [
            "(18724, 28, 28, 1) (18724, 10)\n"
          ],
          "name": "stdout"
        }
      ]
    },
    {
      "cell_type": "code",
      "metadata": {
        "id": "nzbiltMiYycP"
      },
      "source": [
        "import tensorflow as tf\n",
        "# 모델을 완성합니다.\n",
        "X = tf.keras.layers.Input(shape=[28, 28, 1])\n",
        "\n",
        "H = tf.keras.layers.Conv2D(6, kernel_size=5, padding='same', activation='swish')(X)\n",
        "H = tf.keras.layers.MaxPool2D()(H)\n",
        "\n",
        "H = tf.keras.layers.Conv2D(16, kernel_size=5, activation='swish')(H)\n",
        "H = tf.keras.layers.MaxPool2D()(H)\n",
        "\n",
        "H = tf.keras.layers.Flatten()(H)\n",
        "H = tf.keras.layers.Dense(120, activation='swish')(H)\n",
        "H = tf.keras.layers.Dense(84, activation='swish')(H)\n",
        "Y = tf.keras.layers.Dense(10, activation='softmax')(H)\n",
        "\n",
        "model = tf.keras.models.Model(X, Y)\n",
        "model.compile(loss='categorical_crossentropy', metrics='accuracy')"
      ],
      "execution_count": null,
      "outputs": []
    },
    {
      "cell_type": "code",
      "metadata": {
        "colab": {
          "base_uri": "https://localhost:8080/"
        },
        "id": "LEz9BcdKZkRF",
        "outputId": "f90df5f6-6847-4bb1-bd2c-a85f09394557"
      },
      "source": [
        "model.fit(독립, 종속, epochs=10)"
      ],
      "execution_count": null,
      "outputs": [
        {
          "output_type": "stream",
          "text": [
            "Epoch 1/10\n",
            "586/586 [==============================] - 34s 4ms/step - loss: 0.4824 - accuracy: 0.8615\n",
            "Epoch 2/10\n",
            "586/586 [==============================] - 2s 4ms/step - loss: 0.2648 - accuracy: 0.9209\n",
            "Epoch 3/10\n",
            "586/586 [==============================] - 2s 4ms/step - loss: 0.2072 - accuracy: 0.9369\n",
            "Epoch 4/10\n",
            "586/586 [==============================] - 2s 4ms/step - loss: 0.1724 - accuracy: 0.9463\n",
            "Epoch 5/10\n",
            "586/586 [==============================] - 2s 4ms/step - loss: 0.1444 - accuracy: 0.9547\n",
            "Epoch 6/10\n",
            "586/586 [==============================] - 2s 4ms/step - loss: 0.1215 - accuracy: 0.9613\n",
            "Epoch 7/10\n",
            "586/586 [==============================] - 2s 4ms/step - loss: 0.1030 - accuracy: 0.9683\n",
            "Epoch 8/10\n",
            "586/586 [==============================] - 2s 3ms/step - loss: 0.0855 - accuracy: 0.9739\n",
            "Epoch 9/10\n",
            "586/586 [==============================] - 2s 3ms/step - loss: 0.0713 - accuracy: 0.9774\n",
            "Epoch 10/10\n",
            "586/586 [==============================] - 2s 4ms/step - loss: 0.0601 - accuracy: 0.9805\n"
          ],
          "name": "stdout"
        },
        {
          "output_type": "execute_result",
          "data": {
            "text/plain": [
              "<tensorflow.python.keras.callbacks.History at 0x7fb81f5cced0>"
            ]
          },
          "metadata": {
            "tags": []
          },
          "execution_count": 6
        }
      ]
    },
    {
      "cell_type": "code",
      "metadata": {
        "id": "AB1D1fqfZqNB"
      },
      "source": [
        ""
      ],
      "execution_count": null,
      "outputs": []
    }
  ]
}