{
  "nbformat": 4,
  "nbformat_minor": 0,
  "metadata": {
    "colab": {
      "name": "practice5-hiddenlayer.ipynb",
      "provenance": [],
      "authorship_tag": "ABX9TyNUmp8HyqoQajQhMOSJfdKc"
    },
    "kernelspec": {
      "name": "python3",
      "display_name": "Python 3"
    },
    "language_info": {
      "name": "python"
    }
  },
  "cells": [
    {
      "cell_type": "markdown",
      "metadata": {
        "id": "dVAEWdt7kcnJ"
      },
      "source": [
        "https://raw.githubusercontent.com/blackdew/tensorflow1/master/csv/boston.csv\n",
        "https://raw.githubusercontent.com/blackdew/tensorflow1/master/csv/iris.csv\n",
        "\n",
        "\n",
        "```\n",
        "X = \n",
        "H = tf.keras.layers.Dense(5, activaion='swish')(X)\n",
        "H = tf.keras.layers.Dense(3, activaion='swish')(X)\n",
        "H = tf.keras.layers.Dense(3, activaion='swish')(X)\n",
        "Y = tf.keras.layers.Dense(1)(H)\n",
        "```\n",
        "\n",
        "\n"
      ]
    },
    {
      "cell_type": "code",
      "metadata": {
        "id": "gee0PYpDkbwR"
      },
      "source": [
        "# 라이브러리 사용\n",
        "import tensorflow as tf\n",
        "import pandas as pd"
      ],
      "execution_count": null,
      "outputs": []
    },
    {
      "cell_type": "markdown",
      "metadata": {
        "id": "c0JH-anxlyHm"
      },
      "source": [
        "# 보스턴 집값 예측"
      ]
    },
    {
      "cell_type": "code",
      "metadata": {
        "colab": {
          "base_uri": "https://localhost:8080/"
        },
        "id": "ucuMG_X5lnzt",
        "outputId": "f9445a36-30af-4602-c592-75d4f41d9835"
      },
      "source": [
        "# 1. 과거의 데이터를 준비합니다.\n",
        "파일경로 = 'https://raw.githubusercontent.com/blackdew/tensorflow1/master/csv/boston.csv'\n",
        "보스턴 = pd.read_csv(파일경로)\n",
        "\n",
        "# 독립변수, 종속변수 분리\n",
        "독립 = 보스턴[['crim', 'zn', 'indus', 'chas', 'nox', 'rm', 'age', 'dis', 'rad', 'tax',\n",
        "       'ptratio', 'b', 'lstat']]\n",
        "종속 = 보스턴[['medv']]\n",
        "print(독립.shape, 종속.shape)"
      ],
      "execution_count": null,
      "outputs": [
        {
          "output_type": "stream",
          "text": [
            "(506, 13) (506, 1)\n"
          ],
          "name": "stdout"
        }
      ]
    },
    {
      "cell_type": "code",
      "metadata": {
        "id": "RtGVHW-tmHqP"
      },
      "source": [
        "# 2. 모델의 구조를 만듭니다.\n",
        "X = tf.keras.layers.Input(shape=[13])\n",
        "H = tf.keras.layers.Dense(10, activation='swish')(X)\n",
        "Y = tf.keras.layers.Dense(1)(H)\n",
        "model = tf.keras.models.Model(X, Y)\n",
        "model.compile(loss='mse')"
      ],
      "execution_count": null,
      "outputs": []
    },
    {
      "cell_type": "code",
      "metadata": {
        "colab": {
          "base_uri": "https://localhost:8080/"
        },
        "id": "DA18FTtnnFOR",
        "outputId": "29ab83a0-ce6e-4992-8b63-30d2831d8e48"
      },
      "source": [
        "model.summary()"
      ],
      "execution_count": null,
      "outputs": [
        {
          "output_type": "stream",
          "text": [
            "Model: \"model\"\n",
            "_________________________________________________________________\n",
            "Layer (type)                 Output Shape              Param #   \n",
            "=================================================================\n",
            "input_1 (InputLayer)         [(None, 13)]              0         \n",
            "_________________________________________________________________\n",
            "dense (Dense)                (None, 10)                140       \n",
            "_________________________________________________________________\n",
            "dense_1 (Dense)              (None, 1)                 11        \n",
            "=================================================================\n",
            "Total params: 151\n",
            "Trainable params: 151\n",
            "Non-trainable params: 0\n",
            "_________________________________________________________________\n"
          ],
          "name": "stdout"
        }
      ]
    },
    {
      "cell_type": "code",
      "metadata": {
        "colab": {
          "base_uri": "https://localhost:8080/"
        },
        "id": "HO1lKohdmZpD",
        "outputId": "f370453a-d059-42ef-b1ec-1971e714c980"
      },
      "source": [
        "# 3. 데이터로 모델을 학습(FIT)합니다.\n",
        "model.fit(독립, 종속, epochs=1000, verbose=0)\n",
        "model.fit(독립, 종속, epochs=10)"
      ],
      "execution_count": null,
      "outputs": [
        {
          "output_type": "stream",
          "text": [
            "Epoch 1/10\n",
            "16/16 [==============================] - 0s 2ms/step - loss: 19.6856\n",
            "Epoch 2/10\n",
            "16/16 [==============================] - 0s 2ms/step - loss: 21.3000\n",
            "Epoch 3/10\n",
            "16/16 [==============================] - 0s 2ms/step - loss: 21.2513\n",
            "Epoch 4/10\n",
            "16/16 [==============================] - 0s 2ms/step - loss: 21.0800\n",
            "Epoch 5/10\n",
            "16/16 [==============================] - 0s 2ms/step - loss: 22.1380\n",
            "Epoch 6/10\n",
            "16/16 [==============================] - 0s 2ms/step - loss: 19.5925\n",
            "Epoch 7/10\n",
            "16/16 [==============================] - 0s 2ms/step - loss: 21.1480\n",
            "Epoch 8/10\n",
            "16/16 [==============================] - 0s 2ms/step - loss: 24.4654\n",
            "Epoch 9/10\n",
            "16/16 [==============================] - 0s 2ms/step - loss: 20.4924\n",
            "Epoch 10/10\n",
            "16/16 [==============================] - 0s 2ms/step - loss: 20.0260\n"
          ],
          "name": "stdout"
        },
        {
          "output_type": "execute_result",
          "data": {
            "text/plain": [
              "<tensorflow.python.keras.callbacks.History at 0x7f2b5f061d90>"
            ]
          },
          "metadata": {
            "tags": []
          },
          "execution_count": 8
        }
      ]
    },
    {
      "cell_type": "code",
      "metadata": {
        "colab": {
          "base_uri": "https://localhost:8080/"
        },
        "id": "OtDR-PAYmaCT",
        "outputId": "17532af6-89db-4675-93f5-729455ecaf06"
      },
      "source": [
        "# 4. 모델을 이용합니다\n",
        "print(model.predict(독립[:5]))\n",
        "print(종속[:5])"
      ],
      "execution_count": null,
      "outputs": [
        {
          "output_type": "stream",
          "text": [
            "[[29.844225]\n",
            " [24.93726 ]\n",
            " [31.985214]\n",
            " [30.88816 ]\n",
            " [30.851767]]\n",
            "   medv\n",
            "0  24.0\n",
            "1  21.6\n",
            "2  34.7\n",
            "3  33.4\n",
            "4  36.2\n"
          ],
          "name": "stdout"
        }
      ]
    },
    {
      "cell_type": "markdown",
      "metadata": {
        "id": "VMvx_Np9lzAK"
      },
      "source": [
        "# 아이리스 품종 분류"
      ]
    },
    {
      "cell_type": "code",
      "metadata": {
        "colab": {
          "base_uri": "https://localhost:8080/"
        },
        "id": "1StvK-uKnjeN",
        "outputId": "5b075336-78a4-4829-c4b0-30d9e62f9bb3"
      },
      "source": [
        "# 1.과거의 데이터를 준비합니다.\n",
        "파일경로 = 'https://raw.githubusercontent.com/blackdew/tensorflow1/master/csv/iris.csv'\n",
        "아이리스 = pd.read_csv(파일경로)\n",
        "\n",
        "# 원핫인코딩\n",
        "인코딩 = pd.get_dummies(아이리스)\n",
        "\n",
        "# 독립변수, 종속변수\n",
        "독립 = 인코딩[['꽃잎길이', '꽃잎폭', '꽃받침길이', '꽃받침폭']]\n",
        "종속 = 인코딩[['품종_setosa', '품종_versicolor', '품종_virginica']]\n",
        "print(독립.shape, 종속.shape)"
      ],
      "execution_count": null,
      "outputs": [
        {
          "output_type": "stream",
          "text": [
            "(150, 4) (150, 3)\n"
          ],
          "name": "stdout"
        }
      ]
    },
    {
      "cell_type": "code",
      "metadata": {
        "id": "xCQUN6tlnn1i"
      },
      "source": [
        "# 2. 모델의 구조를 만듭니다.\n",
        "X = tf.keras.layers.Input(shape=[4])\n",
        "H = tf.keras.layers.Dense(8, activation=\"swish\")(X)\n",
        "H = tf.keras.layers.Dense(8, activation=\"swish\")(H)\n",
        "H = tf.keras.layers.Dense(8, activation=\"swish\")(H)\n",
        "Y = tf.keras.layers.Dense(3, activation='softmax')(H)\n",
        "model = tf.keras.models.Model(X, Y)\n",
        "model.compile(loss='categorical_crossentropy', metrics='accuracy')"
      ],
      "execution_count": null,
      "outputs": []
    },
    {
      "cell_type": "code",
      "metadata": {
        "colab": {
          "base_uri": "https://localhost:8080/"
        },
        "id": "a1H822zhnnmd",
        "outputId": "e81baae3-2495-45b4-af40-b62d55293eb7"
      },
      "source": [
        "# 3. 데이터로 모델을 학습(FIT)합니다.\n",
        "model.fit(독립, 종속, epochs=100)"
      ],
      "execution_count": null,
      "outputs": [
        {
          "output_type": "stream",
          "text": [
            "Epoch 1/100\n",
            "5/5 [==============================] - 1s 3ms/step - loss: 1.0570 - accuracy: 0.2667\n",
            "Epoch 2/100\n",
            "5/5 [==============================] - 0s 2ms/step - loss: 0.9642 - accuracy: 0.3600\n",
            "Epoch 3/100\n",
            "5/5 [==============================] - 0s 2ms/step - loss: 0.9046 - accuracy: 0.6867\n",
            "Epoch 4/100\n",
            "5/5 [==============================] - 0s 2ms/step - loss: 0.8536 - accuracy: 0.8733\n",
            "Epoch 5/100\n",
            "5/5 [==============================] - 0s 4ms/step - loss: 0.8116 - accuracy: 0.8000\n",
            "Epoch 6/100\n",
            "5/5 [==============================] - 0s 3ms/step - loss: 0.7742 - accuracy: 0.9000\n",
            "Epoch 7/100\n",
            "5/5 [==============================] - 0s 5ms/step - loss: 0.7409 - accuracy: 0.8200\n",
            "Epoch 8/100\n",
            "5/5 [==============================] - 0s 5ms/step - loss: 0.7103 - accuracy: 0.8733\n",
            "Epoch 9/100\n",
            "5/5 [==============================] - 0s 3ms/step - loss: 0.6818 - accuracy: 0.8400\n",
            "Epoch 10/100\n",
            "5/5 [==============================] - 0s 5ms/step - loss: 0.6561 - accuracy: 0.9000\n",
            "Epoch 11/100\n",
            "5/5 [==============================] - 0s 3ms/step - loss: 0.6315 - accuracy: 0.8533\n",
            "Epoch 12/100\n",
            "5/5 [==============================] - 0s 5ms/step - loss: 0.6062 - accuracy: 0.8467\n",
            "Epoch 13/100\n",
            "5/5 [==============================] - 0s 5ms/step - loss: 0.5835 - accuracy: 0.8867\n",
            "Epoch 14/100\n",
            "5/5 [==============================] - 0s 3ms/step - loss: 0.5612 - accuracy: 0.8533\n",
            "Epoch 15/100\n",
            "5/5 [==============================] - 0s 3ms/step - loss: 0.5408 - accuracy: 0.9133\n",
            "Epoch 16/100\n",
            "5/5 [==============================] - 0s 3ms/step - loss: 0.5200 - accuracy: 0.9000\n",
            "Epoch 17/100\n",
            "5/5 [==============================] - 0s 5ms/step - loss: 0.5016 - accuracy: 0.9000\n",
            "Epoch 18/100\n",
            "5/5 [==============================] - 0s 4ms/step - loss: 0.4838 - accuracy: 0.9400\n",
            "Epoch 19/100\n",
            "5/5 [==============================] - 0s 4ms/step - loss: 0.4661 - accuracy: 0.9200\n",
            "Epoch 20/100\n",
            "5/5 [==============================] - 0s 3ms/step - loss: 0.4493 - accuracy: 0.9267\n",
            "Epoch 21/100\n",
            "5/5 [==============================] - 0s 4ms/step - loss: 0.4352 - accuracy: 0.9067\n",
            "Epoch 22/100\n",
            "5/5 [==============================] - 0s 3ms/step - loss: 0.4204 - accuracy: 0.9467\n",
            "Epoch 23/100\n",
            "5/5 [==============================] - 0s 4ms/step - loss: 0.4077 - accuracy: 0.9200\n",
            "Epoch 24/100\n",
            "5/5 [==============================] - 0s 3ms/step - loss: 0.3940 - accuracy: 0.9467\n",
            "Epoch 25/100\n",
            "5/5 [==============================] - 0s 3ms/step - loss: 0.3858 - accuracy: 0.9400\n",
            "Epoch 26/100\n",
            "5/5 [==============================] - 0s 3ms/step - loss: 0.3745 - accuracy: 0.9533\n",
            "Epoch 27/100\n",
            "5/5 [==============================] - 0s 3ms/step - loss: 0.3629 - accuracy: 0.9467\n",
            "Epoch 28/100\n",
            "5/5 [==============================] - 0s 3ms/step - loss: 0.3527 - accuracy: 0.9467\n",
            "Epoch 29/100\n",
            "5/5 [==============================] - 0s 5ms/step - loss: 0.3438 - accuracy: 0.9600\n",
            "Epoch 30/100\n",
            "5/5 [==============================] - 0s 5ms/step - loss: 0.3347 - accuracy: 0.9400\n",
            "Epoch 31/100\n",
            "5/5 [==============================] - 0s 4ms/step - loss: 0.3266 - accuracy: 0.9533\n",
            "Epoch 32/100\n",
            "5/5 [==============================] - 0s 3ms/step - loss: 0.3185 - accuracy: 0.9667\n",
            "Epoch 33/100\n",
            "5/5 [==============================] - 0s 4ms/step - loss: 0.3093 - accuracy: 0.9667\n",
            "Epoch 34/100\n",
            "5/5 [==============================] - 0s 3ms/step - loss: 0.3028 - accuracy: 0.9533\n",
            "Epoch 35/100\n",
            "5/5 [==============================] - 0s 3ms/step - loss: 0.2951 - accuracy: 0.9600\n",
            "Epoch 36/100\n",
            "5/5 [==============================] - 0s 3ms/step - loss: 0.2866 - accuracy: 0.9600\n",
            "Epoch 37/100\n",
            "5/5 [==============================] - 0s 3ms/step - loss: 0.2842 - accuracy: 0.9533\n",
            "Epoch 38/100\n",
            "5/5 [==============================] - 0s 4ms/step - loss: 0.2746 - accuracy: 0.9800\n",
            "Epoch 39/100\n",
            "5/5 [==============================] - 0s 5ms/step - loss: 0.2682 - accuracy: 0.9800\n",
            "Epoch 40/100\n",
            "5/5 [==============================] - 0s 3ms/step - loss: 0.2622 - accuracy: 0.9733\n",
            "Epoch 41/100\n",
            "5/5 [==============================] - 0s 3ms/step - loss: 0.2594 - accuracy: 0.9667\n",
            "Epoch 42/100\n",
            "5/5 [==============================] - 0s 3ms/step - loss: 0.2526 - accuracy: 0.9600\n",
            "Epoch 43/100\n",
            "5/5 [==============================] - 0s 3ms/step - loss: 0.2484 - accuracy: 0.9800\n",
            "Epoch 44/100\n",
            "5/5 [==============================] - 0s 4ms/step - loss: 0.2403 - accuracy: 0.9733\n",
            "Epoch 45/100\n",
            "5/5 [==============================] - 0s 3ms/step - loss: 0.2371 - accuracy: 0.9600\n",
            "Epoch 46/100\n",
            "5/5 [==============================] - 0s 3ms/step - loss: 0.2301 - accuracy: 0.9800\n",
            "Epoch 47/100\n",
            "5/5 [==============================] - 0s 4ms/step - loss: 0.2251 - accuracy: 0.9733\n",
            "Epoch 48/100\n",
            "5/5 [==============================] - 0s 5ms/step - loss: 0.2204 - accuracy: 0.9800\n",
            "Epoch 49/100\n",
            "5/5 [==============================] - 0s 4ms/step - loss: 0.2147 - accuracy: 0.9800\n",
            "Epoch 50/100\n",
            "5/5 [==============================] - 0s 3ms/step - loss: 0.2107 - accuracy: 0.9667\n",
            "Epoch 51/100\n",
            "5/5 [==============================] - 0s 3ms/step - loss: 0.2067 - accuracy: 0.9733\n",
            "Epoch 52/100\n",
            "5/5 [==============================] - 0s 4ms/step - loss: 0.2028 - accuracy: 0.9667\n",
            "Epoch 53/100\n",
            "5/5 [==============================] - 0s 3ms/step - loss: 0.1995 - accuracy: 0.9667\n",
            "Epoch 54/100\n",
            "5/5 [==============================] - 0s 4ms/step - loss: 0.2007 - accuracy: 0.9667\n",
            "Epoch 55/100\n",
            "5/5 [==============================] - 0s 3ms/step - loss: 0.1911 - accuracy: 0.9733\n",
            "Epoch 56/100\n",
            "5/5 [==============================] - 0s 4ms/step - loss: 0.1885 - accuracy: 0.9800\n",
            "Epoch 57/100\n",
            "5/5 [==============================] - 0s 3ms/step - loss: 0.1842 - accuracy: 0.9800\n",
            "Epoch 58/100\n",
            "5/5 [==============================] - 0s 4ms/step - loss: 0.1835 - accuracy: 0.9733\n",
            "Epoch 59/100\n",
            "5/5 [==============================] - 0s 3ms/step - loss: 0.1803 - accuracy: 0.9800\n",
            "Epoch 60/100\n",
            "5/5 [==============================] - 0s 5ms/step - loss: 0.1760 - accuracy: 0.9800\n",
            "Epoch 61/100\n",
            "5/5 [==============================] - 0s 5ms/step - loss: 0.1715 - accuracy: 0.9800\n",
            "Epoch 62/100\n",
            "5/5 [==============================] - 0s 4ms/step - loss: 0.1724 - accuracy: 0.9667\n",
            "Epoch 63/100\n",
            "5/5 [==============================] - 0s 4ms/step - loss: 0.1651 - accuracy: 0.9733\n",
            "Epoch 64/100\n",
            "5/5 [==============================] - 0s 3ms/step - loss: 0.1675 - accuracy: 0.9733\n",
            "Epoch 65/100\n",
            "5/5 [==============================] - 0s 3ms/step - loss: 0.1604 - accuracy: 0.9800\n",
            "Epoch 66/100\n",
            "5/5 [==============================] - 0s 4ms/step - loss: 0.1641 - accuracy: 0.9733\n",
            "Epoch 67/100\n",
            "5/5 [==============================] - 0s 3ms/step - loss: 0.1567 - accuracy: 0.9800\n",
            "Epoch 68/100\n",
            "5/5 [==============================] - 0s 3ms/step - loss: 0.1549 - accuracy: 0.9733\n",
            "Epoch 69/100\n",
            "5/5 [==============================] - 0s 3ms/step - loss: 0.1549 - accuracy: 0.9667\n",
            "Epoch 70/100\n",
            "5/5 [==============================] - 0s 3ms/step - loss: 0.1503 - accuracy: 0.9667\n",
            "Epoch 71/100\n",
            "5/5 [==============================] - 0s 3ms/step - loss: 0.1482 - accuracy: 0.9800\n",
            "Epoch 72/100\n",
            "5/5 [==============================] - 0s 3ms/step - loss: 0.1447 - accuracy: 0.9733\n",
            "Epoch 73/100\n",
            "5/5 [==============================] - 0s 3ms/step - loss: 0.1468 - accuracy: 0.9667\n",
            "Epoch 74/100\n",
            "5/5 [==============================] - 0s 3ms/step - loss: 0.1397 - accuracy: 0.9667\n",
            "Epoch 75/100\n",
            "5/5 [==============================] - 0s 3ms/step - loss: 0.1399 - accuracy: 0.9733\n",
            "Epoch 76/100\n",
            "5/5 [==============================] - 0s 3ms/step - loss: 0.1358 - accuracy: 0.9800\n",
            "Epoch 77/100\n",
            "5/5 [==============================] - 0s 4ms/step - loss: 0.1348 - accuracy: 0.9733\n",
            "Epoch 78/100\n",
            "5/5 [==============================] - 0s 3ms/step - loss: 0.1356 - accuracy: 0.9733\n",
            "Epoch 79/100\n",
            "5/5 [==============================] - 0s 4ms/step - loss: 0.1346 - accuracy: 0.9800\n",
            "Epoch 80/100\n",
            "5/5 [==============================] - 0s 3ms/step - loss: 0.1287 - accuracy: 0.9733\n",
            "Epoch 81/100\n",
            "5/5 [==============================] - 0s 3ms/step - loss: 0.1297 - accuracy: 0.9733\n",
            "Epoch 82/100\n",
            "5/5 [==============================] - 0s 4ms/step - loss: 0.1276 - accuracy: 0.9800\n",
            "Epoch 83/100\n",
            "5/5 [==============================] - 0s 6ms/step - loss: 0.1246 - accuracy: 0.9800\n",
            "Epoch 84/100\n",
            "5/5 [==============================] - 0s 3ms/step - loss: 0.1250 - accuracy: 0.9667\n",
            "Epoch 85/100\n",
            "5/5 [==============================] - 0s 4ms/step - loss: 0.1218 - accuracy: 0.9800\n",
            "Epoch 86/100\n",
            "5/5 [==============================] - 0s 4ms/step - loss: 0.1265 - accuracy: 0.9733\n",
            "Epoch 87/100\n",
            "5/5 [==============================] - 0s 3ms/step - loss: 0.1179 - accuracy: 0.9800\n",
            "Epoch 88/100\n",
            "5/5 [==============================] - 0s 3ms/step - loss: 0.1173 - accuracy: 0.9733\n",
            "Epoch 89/100\n",
            "5/5 [==============================] - 0s 3ms/step - loss: 0.1238 - accuracy: 0.9800\n",
            "Epoch 90/100\n",
            "5/5 [==============================] - 0s 3ms/step - loss: 0.1162 - accuracy: 0.9733\n",
            "Epoch 91/100\n",
            "5/5 [==============================] - 0s 5ms/step - loss: 0.1136 - accuracy: 0.9800\n",
            "Epoch 92/100\n",
            "5/5 [==============================] - 0s 5ms/step - loss: 0.1158 - accuracy: 0.9733\n",
            "Epoch 93/100\n",
            "5/5 [==============================] - 0s 3ms/step - loss: 0.1125 - accuracy: 0.9733\n",
            "Epoch 94/100\n",
            "5/5 [==============================] - 0s 3ms/step - loss: 0.1095 - accuracy: 0.9800\n",
            "Epoch 95/100\n",
            "5/5 [==============================] - 0s 3ms/step - loss: 0.1160 - accuracy: 0.9667\n",
            "Epoch 96/100\n",
            "5/5 [==============================] - 0s 3ms/step - loss: 0.1101 - accuracy: 0.9800\n",
            "Epoch 97/100\n",
            "5/5 [==============================] - 0s 3ms/step - loss: 0.1070 - accuracy: 0.9800\n",
            "Epoch 98/100\n",
            "5/5 [==============================] - 0s 3ms/step - loss: 0.1076 - accuracy: 0.9733\n",
            "Epoch 99/100\n",
            "5/5 [==============================] - 0s 3ms/step - loss: 0.1045 - accuracy: 0.9800\n",
            "Epoch 100/100\n",
            "5/5 [==============================] - 0s 4ms/step - loss: 0.1119 - accuracy: 0.9600\n"
          ],
          "name": "stdout"
        },
        {
          "output_type": "execute_result",
          "data": {
            "text/plain": [
              "<tensorflow.python.keras.callbacks.History at 0x7f2b5f061390>"
            ]
          },
          "metadata": {
            "tags": []
          },
          "execution_count": 13
        }
      ]
    },
    {
      "cell_type": "code",
      "metadata": {
        "colab": {
          "base_uri": "https://localhost:8080/"
        },
        "id": "F3yq4DEcnney",
        "outputId": "734518f1-47cf-456c-ab1f-30b910039654"
      },
      "source": [
        "# 4. 모델을 이용합니다.\n",
        "print(model.predict(독립[0:5]))\n",
        "print(종속[0:5])"
      ],
      "execution_count": null,
      "outputs": [
        {
          "output_type": "stream",
          "text": [
            "[[9.9862278e-01 7.6118612e-04 6.1608228e-04]\n",
            " [9.9749643e-01 1.3737443e-03 1.1297871e-03]\n",
            " [9.9769360e-01 1.2824548e-03 1.0239449e-03]\n",
            " [9.9698335e-01 1.7588488e-03 1.2578212e-03]\n",
            " [9.9865866e-01 7.5253734e-04 5.8885384e-04]]\n",
            "   품종_setosa  품종_versicolor  품종_virginica\n",
            "0          1              0             0\n",
            "1          1              0             0\n",
            "2          1              0             0\n",
            "3          1              0             0\n",
            "4          1              0             0\n"
          ],
          "name": "stdout"
        }
      ]
    }
  ]
}